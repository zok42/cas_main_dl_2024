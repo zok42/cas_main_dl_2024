{
  "cells": [
    {
      "cell_type": "markdown",
      "id": "9962bab1-d50f-4ad7-9a7d-c4460ec20714",
      "metadata": {
        "id": "9962bab1-d50f-4ad7-9a7d-c4460ec20714"
      },
      "source": [
        "# Vision Transformer\n",
        "\n",
        "Based on https://keras.io/examples/vision/image_classification_with_vision_transformer/"
      ]
    },
    {
      "cell_type": "code",
      "execution_count": 1,
      "id": "aaff22a1-e8be-4e06-996f-57844c4a0cc3",
      "metadata": {
        "id": "aaff22a1-e8be-4e06-996f-57844c4a0cc3"
      },
      "outputs": [],
      "source": [
        "import sys\n",
        "import numpy as np\n",
        "import tensorflow as tf\n",
        "from tensorflow import keras\n",
        "from tensorflow.keras import layers\n",
        "import os\n",
        "os.environ['TF_CPP_MIN_LOG_LEVEL'] = '3'"
      ]
    },
    {
      "cell_type": "markdown",
      "id": "13a34ae4-3f82-4559-9b26-b74ba343b2f1",
      "metadata": {
        "id": "13a34ae4-3f82-4559-9b26-b74ba343b2f1"
      },
      "source": [
        "### Prepare Data"
      ]
    },
    {
      "cell_type": "code",
      "execution_count": 2,
      "id": "81f99047-c287-4f28-a591-114f011a469e",
      "metadata": {
        "id": "81f99047-c287-4f28-a591-114f011a469e",
        "outputId": "88efaa82-6f1a-461f-fb27-9501b8ce61a2",
        "colab": {
          "base_uri": "https://localhost:8080/"
        }
      },
      "outputs": [
        {
          "output_type": "stream",
          "name": "stdout",
          "text": [
            "Downloading data from https://www.cs.toronto.edu/~kriz/cifar-100-python.tar.gz\n",
            "\u001b[1m169001437/169001437\u001b[0m \u001b[32m━━━━━━━━━━━━━━━━━━━━\u001b[0m\u001b[37m\u001b[0m \u001b[1m15s\u001b[0m 0us/step\n",
            "x_train shape: (50000, 32, 32, 3) - y_train shape: (50000, 1)\n",
            "x_test shape: (10000, 32, 32, 3) - y_test shape: (10000, 1)\n"
          ]
        }
      ],
      "source": [
        "num_classes = 100\n",
        "input_shape = (32, 32, 3)\n",
        "\n",
        "(x_train, y_train), (x_test, y_test) = keras.datasets.cifar100.load_data()\n",
        "\n",
        "print(f\"x_train shape: {x_train.shape} - y_train shape: {y_train.shape}\")\n",
        "print(f\"x_test shape: {x_test.shape} - y_test shape: {y_test.shape}\")\n"
      ]
    },
    {
      "cell_type": "markdown",
      "id": "9950cb8e-9bb0-4963-82b8-f5ea84c74b65",
      "metadata": {
        "id": "9950cb8e-9bb0-4963-82b8-f5ea84c74b65"
      },
      "source": [
        "### Hyperparameters"
      ]
    },
    {
      "cell_type": "code",
      "execution_count": 3,
      "id": "4448b4cd-6d99-4f7f-a23d-b9f94653c4ba",
      "metadata": {
        "id": "4448b4cd-6d99-4f7f-a23d-b9f94653c4ba"
      },
      "outputs": [],
      "source": [
        "learning_rate = 0.001\n",
        "weight_decay = 0.0001\n",
        "batch_size = 256\n",
        "num_epochs = 150\n",
        "image_size = 72  # We'll resize input images to this size\n",
        "patch_size = 6  # Size of the patches to be extract from the input images\n",
        "num_patches = (image_size // patch_size) ** 2\n",
        "projection_dim = 64\n",
        "num_heads = 4\n",
        "transformer_units = [\n",
        "    projection_dim * 2,\n",
        "    projection_dim,\n",
        "]  # Size of the transformer layers\n",
        "transformer_layers = 10\n",
        "mlp_head_units = [2048, 1024]  # Size of the dense layers of the final classifier\n"
      ]
    },
    {
      "cell_type": "markdown",
      "id": "a70a45a7-9302-4a5f-b258-a6247340479f",
      "metadata": {
        "id": "a70a45a7-9302-4a5f-b258-a6247340479f"
      },
      "source": [
        "### Data Augmentation"
      ]
    },
    {
      "cell_type": "code",
      "execution_count": 4,
      "id": "ed80a256-0639-473a-9c9e-e1c3a9272990",
      "metadata": {
        "id": "ed80a256-0639-473a-9c9e-e1c3a9272990"
      },
      "outputs": [],
      "source": [
        "data_augmentation = keras.Sequential(\n",
        "    [\n",
        "        layers.Normalization(),\n",
        "        layers.Resizing(image_size, image_size),\n",
        "        layers.RandomFlip(\"horizontal\"),\n",
        "        layers.RandomRotation(factor=0.02),\n",
        "        layers.RandomZoom(\n",
        "            height_factor=0.2, width_factor=0.2\n",
        "        ),\n",
        "    ],\n",
        "    name=\"data_augmentation\",\n",
        ")\n",
        "# Compute the mean and the variance of the training data for normalization.\n",
        "data_augmentation.layers[0].adapt(x_train)\n"
      ]
    },
    {
      "cell_type": "markdown",
      "id": "0fe74630-1e09-45ca-8ef4-92095f4b9435",
      "metadata": {
        "id": "0fe74630-1e09-45ca-8ef4-92095f4b9435"
      },
      "source": [
        "### Implement multilayer perceptron (MLP)"
      ]
    },
    {
      "cell_type": "code",
      "execution_count": 5,
      "id": "e4d1c44b-c024-47d9-82bb-d97d4fca040a",
      "metadata": {
        "id": "e4d1c44b-c024-47d9-82bb-d97d4fca040a"
      },
      "outputs": [],
      "source": [
        "def mlp(x, hidden_units, dropout_rate):\n",
        "    for units in hidden_units:\n",
        "        x = layers.Dense(units, activation=tf.nn.gelu)(x)\n",
        "        x = layers.Dropout(dropout_rate)(x)\n",
        "    return x\n"
      ]
    },
    {
      "cell_type": "markdown",
      "id": "c2769650-dadb-4698-8a29-cebbb7b7b58b",
      "metadata": {
        "id": "c2769650-dadb-4698-8a29-cebbb7b7b58b"
      },
      "source": [
        "### Implement patch creation as a layer"
      ]
    },
    {
      "cell_type": "code",
      "execution_count": 6,
      "id": "d1b52cc8-afa2-417f-baef-2f0ee67b31c2",
      "metadata": {
        "id": "d1b52cc8-afa2-417f-baef-2f0ee67b31c2"
      },
      "outputs": [],
      "source": [
        "class Patches(layers.Layer):\n",
        "    def __init__(self, patch_size):\n",
        "        super().__init__()\n",
        "        self.patch_size = patch_size\n",
        "\n",
        "    def call(self, images):\n",
        "        batch_size = tf.shape(images)[0]\n",
        "        patches = tf.image.extract_patches(\n",
        "            images=images,\n",
        "            sizes=[1, self.patch_size, self.patch_size, 1],\n",
        "            strides=[1, self.patch_size, self.patch_size, 1],\n",
        "            rates=[1, 1, 1, 1],\n",
        "            padding=\"VALID\",\n",
        "        )\n",
        "        patch_dims = patches.shape[-1]\n",
        "        patches = tf.reshape(patches, [batch_size, -1, patch_dims])\n",
        "        return patches\n"
      ]
    },
    {
      "cell_type": "markdown",
      "id": "c1c22a76-3fc9-43dd-a4b3-894836b001b6",
      "metadata": {
        "id": "c1c22a76-3fc9-43dd-a4b3-894836b001b6"
      },
      "source": [
        "Let's display patches for a sample image"
      ]
    },
    {
      "cell_type": "code",
      "execution_count": 7,
      "id": "6e434a33-f509-4340-9d6e-59ec3c986471",
      "metadata": {
        "id": "6e434a33-f509-4340-9d6e-59ec3c986471",
        "outputId": "b5ccddda-243d-43df-d295-d0118d5b05bb",
        "colab": {
          "base_uri": "https://localhost:8080/",
          "height": 742
        }
      },
      "outputs": [
        {
          "output_type": "stream",
          "name": "stdout",
          "text": [
            "Image size: 72 X 72\n",
            "Patch size: 6 X 6\n",
            "Patches per image: 144\n",
            "Elements per patch: 108\n"
          ]
        },
        {
          "output_type": "display_data",
          "data": {
            "text/plain": [
              "<Figure size 400x400 with 1 Axes>"
            ],
            "image/png": "[encoded data removed]"
          },
          "metadata": {}
        },
        {
          "output_type": "display_data",
          "data": {
            "text/plain": [
              "<Figure size 400x400 with 144 Axes>"
            ],
            "image/png": "[encoded data removed]"
          },
          "metadata": {}
        }
      ],
      "source": [
        "import matplotlib.pyplot as plt\n",
        "\n",
        "plt.figure(figsize=(4, 4))\n",
        "image = x_train[np.random.choice(range(x_train.shape[0]))]\n",
        "plt.imshow(image.astype(\"uint8\"))\n",
        "plt.axis(\"off\")\n",
        "\n",
        "resized_image = tf.image.resize(\n",
        "    tf.convert_to_tensor([image]), size=(image_size, image_size)\n",
        ")\n",
        "patches = Patches(patch_size)(resized_image)\n",
        "print(f\"Image size: {image_size} X {image_size}\")\n",
        "print(f\"Patch size: {patch_size} X {patch_size}\")\n",
        "print(f\"Patches per image: {patches.shape[1]}\")\n",
        "print(f\"Elements per patch: {patches.shape[-1]}\")\n",
        "\n",
        "n = int(np.sqrt(patches.shape[1]))\n",
        "plt.figure(figsize=(4, 4))\n",
        "for i, patch in enumerate(patches[0]):\n",
        "    ax = plt.subplot(n, n, i + 1)\n",
        "    patch_img = tf.reshape(patch, (patch_size, patch_size, 3))\n",
        "    plt.imshow(patch_img.numpy().astype(\"uint8\"))\n",
        "    plt.axis(\"off\")\n"
      ]
    },
    {
      "cell_type": "markdown",
      "id": "868b9aa6-7b50-493c-bfd6-109972dea12f",
      "metadata": {
        "id": "868b9aa6-7b50-493c-bfd6-109972dea12f"
      },
      "source": [
        "### Implement the patch encoding layer\n",
        "\n",
        "The PatchEncoder layer will linearly transform a patch by projecting it into a vector of size projection_dim. In addition, it adds a learnable position embedding to the projected vector."
      ]
    },
    {
      "cell_type": "code",
      "execution_count": 8,
      "id": "29877509-0ce8-46d2-be6c-1c3353ef9fc9",
      "metadata": {
        "id": "29877509-0ce8-46d2-be6c-1c3353ef9fc9"
      },
      "outputs": [],
      "source": [
        "class PatchEncoder(layers.Layer):\n",
        "    def __init__(self, num_patches, projection_dim):\n",
        "        super().__init__()\n",
        "        self.num_patches = num_patches\n",
        "        self.projection = layers.Dense(units=projection_dim)\n",
        "        self.position_embedding = layers.Embedding(\n",
        "            input_dim=num_patches, output_dim=projection_dim\n",
        "        )\n",
        "\n",
        "    def call(self, patch):\n",
        "        positions = tf.range(start=0, limit=self.num_patches, delta=1)\n",
        "        encoded = self.projection(patch) + self.position_embedding(positions)\n",
        "        return encoded\n"
      ]
    },
    {
      "cell_type": "markdown",
      "id": "c916faf7-8fc4-426f-b0e5-d397d7f29622",
      "metadata": {
        "id": "c916faf7-8fc4-426f-b0e5-d397d7f29622"
      },
      "source": [
        "### Build the ViT model\n",
        "\n",
        "The ViT model consists of multiple Transformer blocks, which use the layers.MultiHeadAttention layer as a self-attention mechanism applied to the sequence of patches. The Transformer blocks produce a [batch_size, num_patches, projection_dim] tensor, which is processed via an classifier head with softmax to produce the final class probabilities output.\n",
        "\n",
        "Unlike the technique described in the paper, which prepends a learnable embedding to the sequence of encoded patches to serve as the image representation, all the outputs of the final Transformer block are reshaped with layers.Flatten() and used as the image representation input to the classifier head. Note that the layers.GlobalAveragePooling1D layer could also be used instead to aggregate the outputs of the Transformer block, especially when the number of patches and the projection dimensions are large."
      ]
    },
    {
      "cell_type": "code",
      "execution_count": 9,
      "id": "ae202ac8-765f-4139-ac43-6fe6eb1909c8",
      "metadata": {
        "id": "ae202ac8-765f-4139-ac43-6fe6eb1909c8"
      },
      "outputs": [],
      "source": [
        "def create_vit_classifier():\n",
        "    inputs = layers.Input(shape=input_shape)\n",
        "    # Augment data.\n",
        "    augmented = data_augmentation(inputs)\n",
        "    # Create patches.\n",
        "    patches = Patches(patch_size)(augmented)\n",
        "    # Encode patches.\n",
        "    encoded_patches = PatchEncoder(num_patches, projection_dim)(patches)\n",
        "\n",
        "    # Create multiple layers of the Transformer block.\n",
        "    for _ in range(transformer_layers):\n",
        "        # Layer normalization 1.\n",
        "        x1 = layers.LayerNormalization(epsilon=1e-6)(encoded_patches)\n",
        "        # Create a multi-head attention layer.\n",
        "        attention_output = layers.MultiHeadAttention(\n",
        "            num_heads=num_heads, key_dim=projection_dim, dropout=0.1\n",
        "        )(x1, x1)\n",
        "        # Skip connection 1.\n",
        "        x2 = layers.Add()([attention_output, encoded_patches])\n",
        "        # Layer normalization 2.\n",
        "        x3 = layers.LayerNormalization(epsilon=1e-6)(x2)\n",
        "        # MLP.\n",
        "        x3 = mlp(x3, hidden_units=transformer_units, dropout_rate=0.1)\n",
        "        # Skip connection 2.\n",
        "        encoded_patches = layers.Add()([x3, x2])\n",
        "\n",
        "    # Create a [batch_size, projection_dim] tensor.\n",
        "    representation = layers.LayerNormalization(epsilon=1e-6)(encoded_patches)\n",
        "    representation = layers.Flatten()(representation)\n",
        "    representation = layers.Dropout(0.5)(representation)\n",
        "    # Add MLP.\n",
        "    features = mlp(representation, hidden_units=mlp_head_units, dropout_rate=0.5)\n",
        "    # Classify outputs.\n",
        "    logits = layers.Dense(num_classes)(features)\n",
        "    # Create the Keras model.\n",
        "    model = keras.Model(inputs=inputs, outputs=logits)\n",
        "    return model\n"
      ]
    },
    {
      "cell_type": "markdown",
      "id": "ac8e6372-eac1-479c-93cd-71700e17716e",
      "metadata": {
        "id": "ac8e6372-eac1-479c-93cd-71700e17716e"
      },
      "source": [
        "### Compile, train, and evaluate the mode"
      ]
    },
    {
      "cell_type": "code",
      "execution_count": 10,
      "id": "e04e8d66-4013-4e62-9840-ab00e7f00184",
      "metadata": {
        "id": "e04e8d66-4013-4e62-9840-ab00e7f00184",
        "outputId": "62983590-ff9d-4be4-be38-08cc9479a679",
        "colab": {
          "base_uri": "https://localhost:8080/"
        }
      },
      "outputs": [
        {
          "output_type": "stream",
          "name": "stdout",
          "text": [
            "Epoch 1/150\n",
            "\u001b[1m176/176\u001b[0m \u001b[32m━━━━━━━━━━━━━━━━━━━━\u001b[0m\u001b[37m\u001b[0m \u001b[1m57s\u001b[0m 119ms/step - accuracy: 0.0289 - loss: 4.8491 - top-5-accuracy: 0.1146 - val_accuracy: 0.1044 - val_loss: 3.9580 - val_top-5-accuracy: 0.3030\n",
            "Epoch 2/150\n",
            "\u001b[1m176/176\u001b[0m \u001b[32m━━━━━━━━━━━━━━━━━━━━\u001b[0m\u001b[37m\u001b[0m \u001b[1m19s\u001b[0m 110ms/step - accuracy: 0.0780 - loss: 4.0483 - top-5-accuracy: 0.2558 - val_accuracy: 0.1558 - val_loss: 3.6339 - val_top-5-accuracy: 0.3882\n",
            "Epoch 3/150\n",
            "\u001b[1m176/176\u001b[0m \u001b[32m━━━━━━━━━━━━━━━━━━━━\u001b[0m\u001b[37m\u001b[0m \u001b[1m19s\u001b[0m 110ms/step - accuracy: 0.1094 - loss: 3.7999 - top-5-accuracy: 0.3323 - val_accuracy: 0.1806 - val_loss: 3.4565 - val_top-5-accuracy: 0.4554\n",
            "Epoch 4/150\n",
            "\u001b[1m176/176\u001b[0m \u001b[32m━━━━━━━━━━━━━━━━━━━━\u001b[0m\u001b[37m\u001b[0m \u001b[1m19s\u001b[0m 110ms/step - accuracy: 0.1407 - loss: 3.6169 - top-5-accuracy: 0.3867 - val_accuracy: 0.2116 - val_loss: 3.3442 - val_top-5-accuracy: 0.4764\n",
            "Epoch 5/150\n",
            "\u001b[1m176/176\u001b[0m \u001b[32m━━━━━━━━━━━━━━━━━━━━\u001b[0m\u001b[37m\u001b[0m \u001b[1m19s\u001b[0m 110ms/step - accuracy: 0.1644 - loss: 3.4439 - top-5-accuracy: 0.4332 - val_accuracy: 0.2426 - val_loss: 3.1022 - val_top-5-accuracy: 0.5342\n",
            "Epoch 6/150\n",
            "\u001b[1m176/176\u001b[0m \u001b[32m━━━━━━━━━━━━━━━━━━━━\u001b[0m\u001b[37m\u001b[0m \u001b[1m19s\u001b[0m 110ms/step - accuracy: 0.2012 - loss: 3.2615 - top-5-accuracy: 0.4862 - val_accuracy: 0.2580 - val_loss: 2.9621 - val_top-5-accuracy: 0.5642\n",
            "Epoch 7/150\n",
            "\u001b[1m176/176\u001b[0m \u001b[32m━━━━━━━━━━━━━━━━━━━━\u001b[0m\u001b[37m\u001b[0m \u001b[1m19s\u001b[0m 110ms/step - accuracy: 0.2311 - loss: 3.1144 - top-5-accuracy: 0.5269 - val_accuracy: 0.2920 - val_loss: 2.8184 - val_top-5-accuracy: 0.6000\n",
            "Epoch 8/150\n",
            "\u001b[1m176/176\u001b[0m \u001b[32m━━━━━━━━━━━━━━━━━━━━\u001b[0m\u001b[37m\u001b[0m \u001b[1m19s\u001b[0m 110ms/step - accuracy: 0.2602 - loss: 2.9556 - top-5-accuracy: 0.5673 - val_accuracy: 0.3240 - val_loss: 2.6808 - val_top-5-accuracy: 0.6344\n",
            "Epoch 9/150\n",
            "\u001b[1m176/176\u001b[0m \u001b[32m━━━━━━━━━━━━━━━━━━━━\u001b[0m\u001b[37m\u001b[0m \u001b[1m19s\u001b[0m 110ms/step - accuracy: 0.2883 - loss: 2.8049 - top-5-accuracy: 0.6039 - val_accuracy: 0.3444 - val_loss: 2.5694 - val_top-5-accuracy: 0.6562\n",
            "Epoch 10/150\n",
            "\u001b[1m176/176\u001b[0m \u001b[32m━━━━━━━━━━━━━━━━━━━━\u001b[0m\u001b[37m\u001b[0m \u001b[1m19s\u001b[0m 110ms/step - accuracy: 0.3136 - loss: 2.6765 - top-5-accuracy: 0.6351 - val_accuracy: 0.3632 - val_loss: 2.4832 - val_top-5-accuracy: 0.6722\n",
            "Epoch 11/150\n",
            "\u001b[1m176/176\u001b[0m \u001b[32m━━━━━━━━━━━━━━━━━━━━\u001b[0m\u001b[37m\u001b[0m \u001b[1m19s\u001b[0m 110ms/step - accuracy: 0.3369 - loss: 2.5814 - top-5-accuracy: 0.6555 - val_accuracy: 0.3778 - val_loss: 2.4107 - val_top-5-accuracy: 0.6870\n",
            "Epoch 12/150\n",
            "\u001b[1m176/176\u001b[0m \u001b[32m━━━━━━━━━━━━━━━━━━━━\u001b[0m\u001b[37m\u001b[0m \u001b[1m19s\u001b[0m 110ms/step - accuracy: 0.3520 - loss: 2.4998 - top-5-accuracy: 0.6730 - val_accuracy: 0.3818 - val_loss: 2.3652 - val_top-5-accuracy: 0.6988\n",
            "Epoch 13/150\n",
            "\u001b[1m176/176\u001b[0m \u001b[32m━━━━━━━━━━━━━━━━━━━━\u001b[0m\u001b[37m\u001b[0m \u001b[1m19s\u001b[0m 111ms/step - accuracy: 0.3724 - loss: 2.4057 - top-5-accuracy: 0.6923 - val_accuracy: 0.4016 - val_loss: 2.3011 - val_top-5-accuracy: 0.7060\n",
            "Epoch 14/150\n",
            "\u001b[1m176/176\u001b[0m \u001b[32m━━━━━━━━━━━━━━━━━━━━\u001b[0m\u001b[37m\u001b[0m \u001b[1m19s\u001b[0m 110ms/step - accuracy: 0.3838 - loss: 2.3505 - top-5-accuracy: 0.7038 - val_accuracy: 0.4148 - val_loss: 2.2723 - val_top-5-accuracy: 0.7104\n",
            "Epoch 15/150\n",
            "\u001b[1m176/176\u001b[0m \u001b[32m━━━━━━━━━━━━━━━━━━━━\u001b[0m\u001b[37m\u001b[0m \u001b[1m19s\u001b[0m 111ms/step - accuracy: 0.3948 - loss: 2.2909 - top-5-accuracy: 0.7179 - val_accuracy: 0.4196 - val_loss: 2.2157 - val_top-5-accuracy: 0.7250\n",
            "Epoch 16/150\n",
            "\u001b[1m176/176\u001b[0m \u001b[32m━━━━━━━━━━━━━━━━━━━━\u001b[0m\u001b[37m\u001b[0m \u001b[1m19s\u001b[0m 110ms/step - accuracy: 0.4089 - loss: 2.2150 - top-5-accuracy: 0.7336 - val_accuracy: 0.4210 - val_loss: 2.2275 - val_top-5-accuracy: 0.7186\n",
            "Epoch 17/150\n",
            "\u001b[1m176/176\u001b[0m \u001b[32m━━━━━━━━━━━━━━━━━━━━\u001b[0m\u001b[37m\u001b[0m \u001b[1m19s\u001b[0m 110ms/step - accuracy: 0.4251 - loss: 2.1593 - top-5-accuracy: 0.7473 - val_accuracy: 0.4354 - val_loss: 2.1542 - val_top-5-accuracy: 0.7352\n",
            "Epoch 18/150\n",
            "\u001b[1m176/176\u001b[0m \u001b[32m━━━━━━━━━━━━━━━━━━━━\u001b[0m\u001b[37m\u001b[0m \u001b[1m19s\u001b[0m 110ms/step - accuracy: 0.4376 - loss: 2.0971 - top-5-accuracy: 0.7541 - val_accuracy: 0.4384 - val_loss: 2.1329 - val_top-5-accuracy: 0.7432\n",
            "Epoch 19/150\n",
            "\u001b[1m176/176\u001b[0m \u001b[32m━━━━━━━━━━━━━━━━━━━━\u001b[0m\u001b[37m\u001b[0m \u001b[1m19s\u001b[0m 111ms/step - accuracy: 0.4442 - loss: 2.0533 - top-5-accuracy: 0.7621 - val_accuracy: 0.4578 - val_loss: 2.0653 - val_top-5-accuracy: 0.7574\n",
            "Epoch 20/150\n",
            "\u001b[1m176/176\u001b[0m \u001b[32m━━━━━━━━━━━━━━━━━━━━\u001b[0m\u001b[37m\u001b[0m \u001b[1m18s\u001b[0m 104ms/step - accuracy: 0.4513 - loss: 2.0106 - top-5-accuracy: 0.7731 - val_accuracy: 0.4438 - val_loss: 2.0876 - val_top-5-accuracy: 0.7550\n",
            "Epoch 21/150\n",
            "\u001b[1m176/176\u001b[0m \u001b[32m━━━━━━━━━━━━━━━━━━━━\u001b[0m\u001b[37m\u001b[0m \u001b[1m18s\u001b[0m 104ms/step - accuracy: 0.4683 - loss: 1.9354 - top-5-accuracy: 0.7889 - val_accuracy: 0.4504 - val_loss: 2.0583 - val_top-5-accuracy: 0.7620\n",
            "Epoch 22/150\n",
            "\u001b[1m176/176\u001b[0m \u001b[32m━━━━━━━━━━━━━━━━━━━━\u001b[0m\u001b[37m\u001b[0m \u001b[1m19s\u001b[0m 110ms/step - accuracy: 0.4819 - loss: 1.8974 - top-5-accuracy: 0.7916 - val_accuracy: 0.4620 - val_loss: 2.0208 - val_top-5-accuracy: 0.7644\n",
            "Epoch 23/150\n",
            "\u001b[1m176/176\u001b[0m \u001b[32m━━━━━━━━━━━━━━━━━━━━\u001b[0m\u001b[37m\u001b[0m \u001b[1m19s\u001b[0m 110ms/step - accuracy: 0.4927 - loss: 1.8416 - top-5-accuracy: 0.8019 - val_accuracy: 0.4810 - val_loss: 1.9820 - val_top-5-accuracy: 0.7696\n",
            "Epoch 24/150\n",
            "\u001b[1m176/176\u001b[0m \u001b[32m━━━━━━━━━━━━━━━━━━━━\u001b[0m\u001b[37m\u001b[0m \u001b[1m18s\u001b[0m 104ms/step - accuracy: 0.5014 - loss: 1.8037 - top-5-accuracy: 0.8112 - val_accuracy: 0.4756 - val_loss: 1.9786 - val_top-5-accuracy: 0.7718\n",
            "Epoch 25/150\n",
            "\u001b[1m176/176\u001b[0m \u001b[32m━━━━━━━━━━━━━━━━━━━━\u001b[0m\u001b[37m\u001b[0m \u001b[1m18s\u001b[0m 104ms/step - accuracy: 0.5113 - loss: 1.7659 - top-5-accuracy: 0.8180 - val_accuracy: 0.4776 - val_loss: 1.9858 - val_top-5-accuracy: 0.7708\n",
            "Epoch 26/150\n",
            "\u001b[1m176/176\u001b[0m \u001b[32m━━━━━━━━━━━━━━━━━━━━\u001b[0m\u001b[37m\u001b[0m \u001b[1m19s\u001b[0m 110ms/step - accuracy: 0.5251 - loss: 1.7093 - top-5-accuracy: 0.8280 - val_accuracy: 0.4864 - val_loss: 1.9591 - val_top-5-accuracy: 0.7810\n",
            "Epoch 27/150\n",
            "\u001b[1m176/176\u001b[0m \u001b[32m━━━━━━━━━━━━━━━━━━━━\u001b[0m\u001b[37m\u001b[0m \u001b[1m19s\u001b[0m 111ms/step - accuracy: 0.5321 - loss: 1.6925 - top-5-accuracy: 0.8286 - val_accuracy: 0.4892 - val_loss: 1.9385 - val_top-5-accuracy: 0.7838\n",
            "Epoch 28/150\n",
            "\u001b[1m176/176\u001b[0m \u001b[32m━━━━━━━━━━━━━━━━━━━━\u001b[0m\u001b[37m\u001b[0m \u001b[1m19s\u001b[0m 111ms/step - accuracy: 0.5324 - loss: 1.6739 - top-5-accuracy: 0.8345 - val_accuracy: 0.4928 - val_loss: 1.9305 - val_top-5-accuracy: 0.7886\n",
            "Epoch 29/150\n",
            "\u001b[1m176/176\u001b[0m \u001b[32m━━━━━━━━━━━━━━━━━━━━\u001b[0m\u001b[37m\u001b[0m \u001b[1m19s\u001b[0m 111ms/step - accuracy: 0.5448 - loss: 1.6214 - top-5-accuracy: 0.8427 - val_accuracy: 0.4976 - val_loss: 1.9231 - val_top-5-accuracy: 0.7852\n",
            "Epoch 30/150\n",
            "\u001b[1m176/176\u001b[0m \u001b[32m━━━━━━━━━━━━━━━━━━━━\u001b[0m\u001b[37m\u001b[0m \u001b[1m19s\u001b[0m 110ms/step - accuracy: 0.5557 - loss: 1.5899 - top-5-accuracy: 0.8457 - val_accuracy: 0.5030 - val_loss: 1.9333 - val_top-5-accuracy: 0.7926\n",
            "Epoch 31/150\n",
            "\u001b[1m176/176\u001b[0m \u001b[32m━━━━━━━━━━━━━━━━━━━━\u001b[0m\u001b[37m\u001b[0m \u001b[1m18s\u001b[0m 104ms/step - accuracy: 0.5625 - loss: 1.5506 - top-5-accuracy: 0.8537 - val_accuracy: 0.4986 - val_loss: 1.9102 - val_top-5-accuracy: 0.7946\n",
            "Epoch 32/150\n",
            "\u001b[1m176/176\u001b[0m \u001b[32m━━━━━━━━━━━━━━━━━━━━\u001b[0m\u001b[37m\u001b[0m \u001b[1m19s\u001b[0m 110ms/step - accuracy: 0.5732 - loss: 1.5196 - top-5-accuracy: 0.8571 - val_accuracy: 0.5032 - val_loss: 1.9061 - val_top-5-accuracy: 0.7916\n",
            "Epoch 33/150\n",
            "\u001b[1m176/176\u001b[0m \u001b[32m━━━━━━━━━━━━━━━━━━━━\u001b[0m\u001b[37m\u001b[0m \u001b[1m18s\u001b[0m 104ms/step - accuracy: 0.5778 - loss: 1.4921 - top-5-accuracy: 0.8612 - val_accuracy: 0.4984 - val_loss: 1.8858 - val_top-5-accuracy: 0.7984\n",
            "Epoch 34/150\n",
            "\u001b[1m176/176\u001b[0m \u001b[32m━━━━━━━━━━━━━━━━━━━━\u001b[0m\u001b[37m\u001b[0m \u001b[1m19s\u001b[0m 110ms/step - accuracy: 0.5823 - loss: 1.4585 - top-5-accuracy: 0.8705 - val_accuracy: 0.5066 - val_loss: 1.8856 - val_top-5-accuracy: 0.7984\n",
            "Epoch 35/150\n",
            "\u001b[1m176/176\u001b[0m \u001b[32m━━━━━━━━━━━━━━━━━━━━\u001b[0m\u001b[37m\u001b[0m \u001b[1m19s\u001b[0m 110ms/step - accuracy: 0.5923 - loss: 1.4296 - top-5-accuracy: 0.8742 - val_accuracy: 0.5130 - val_loss: 1.8763 - val_top-5-accuracy: 0.8010\n",
            "Epoch 36/150\n",
            "\u001b[1m176/176\u001b[0m \u001b[32m━━━━━━━━━━━━━━━━━━━━\u001b[0m\u001b[37m\u001b[0m \u001b[1m18s\u001b[0m 104ms/step - accuracy: 0.5945 - loss: 1.4193 - top-5-accuracy: 0.8791 - val_accuracy: 0.5098 - val_loss: 1.8879 - val_top-5-accuracy: 0.8000\n",
            "Epoch 37/150\n",
            "\u001b[1m176/176\u001b[0m \u001b[32m━━━━━━━━━━━━━━━━━━━━\u001b[0m\u001b[37m\u001b[0m \u001b[1m18s\u001b[0m 104ms/step - accuracy: 0.6018 - loss: 1.3954 - top-5-accuracy: 0.8783 - val_accuracy: 0.5076 - val_loss: 1.8976 - val_top-5-accuracy: 0.7964\n",
            "Epoch 38/150\n",
            "\u001b[1m176/176\u001b[0m \u001b[32m━━━━━━━━━━━━━━━━━━━━\u001b[0m\u001b[37m\u001b[0m \u001b[1m19s\u001b[0m 111ms/step - accuracy: 0.6115 - loss: 1.3486 - top-5-accuracy: 0.8856 - val_accuracy: 0.5152 - val_loss: 1.8600 - val_top-5-accuracy: 0.8008\n",
            "Epoch 39/150\n",
            "\u001b[1m176/176\u001b[0m \u001b[32m━━━━━━━━━━━━━━━━━━━━\u001b[0m\u001b[37m\u001b[0m \u001b[1m18s\u001b[0m 104ms/step - accuracy: 0.6103 - loss: 1.3448 - top-5-accuracy: 0.8865 - val_accuracy: 0.5140 - val_loss: 1.8891 - val_top-5-accuracy: 0.7980\n",
            "Epoch 40/150\n",
            "\u001b[1m176/176\u001b[0m \u001b[32m━━━━━━━━━━━━━━━━━━━━\u001b[0m\u001b[37m\u001b[0m \u001b[1m19s\u001b[0m 111ms/step - accuracy: 0.6190 - loss: 1.3140 - top-5-accuracy: 0.8924 - val_accuracy: 0.5180 - val_loss: 1.9051 - val_top-5-accuracy: 0.8020\n",
            "Epoch 41/150\n",
            "\u001b[1m176/176\u001b[0m \u001b[32m━━━━━━━━━━━━━━━━━━━━\u001b[0m\u001b[37m\u001b[0m \u001b[1m18s\u001b[0m 105ms/step - accuracy: 0.6242 - loss: 1.2884 - top-5-accuracy: 0.8959 - val_accuracy: 0.5154 - val_loss: 1.8845 - val_top-5-accuracy: 0.8004\n",
            "Epoch 42/150\n",
            "\u001b[1m176/176\u001b[0m \u001b[32m━━━━━━━━━━━━━━━━━━━━\u001b[0m\u001b[37m\u001b[0m \u001b[1m19s\u001b[0m 111ms/step - accuracy: 0.6411 - loss: 1.2543 - top-5-accuracy: 0.8982 - val_accuracy: 0.5204 - val_loss: 1.8842 - val_top-5-accuracy: 0.8062\n",
            "Epoch 43/150\n",
            "\u001b[1m176/176\u001b[0m \u001b[32m━━━━━━━━━━━━━━━━━━━━\u001b[0m\u001b[37m\u001b[0m \u001b[1m18s\u001b[0m 104ms/step - accuracy: 0.6371 - loss: 1.2471 - top-5-accuracy: 0.9030 - val_accuracy: 0.5192 - val_loss: 1.9057 - val_top-5-accuracy: 0.8004\n",
            "Epoch 44/150\n",
            "\u001b[1m176/176\u001b[0m \u001b[32m━━━━━━━━━━━━━━━━━━━━\u001b[0m\u001b[37m\u001b[0m \u001b[1m19s\u001b[0m 110ms/step - accuracy: 0.6470 - loss: 1.2173 - top-5-accuracy: 0.9036 - val_accuracy: 0.5220 - val_loss: 1.8924 - val_top-5-accuracy: 0.8044\n",
            "Epoch 45/150\n",
            "\u001b[1m176/176\u001b[0m \u001b[32m━━━━━━━━━━━━━━━━━━━━\u001b[0m\u001b[37m\u001b[0m \u001b[1m19s\u001b[0m 111ms/step - accuracy: 0.6502 - loss: 1.2021 - top-5-accuracy: 0.9076 - val_accuracy: 0.5222 - val_loss: 1.8930 - val_top-5-accuracy: 0.8036\n",
            "Epoch 46/150\n",
            "\u001b[1m176/176\u001b[0m \u001b[32m━━━━━━━━━━━━━━━━━━━━\u001b[0m\u001b[37m\u001b[0m \u001b[1m18s\u001b[0m 104ms/step - accuracy: 0.6578 - loss: 1.1754 - top-5-accuracy: 0.9100 - val_accuracy: 0.5220 - val_loss: 1.9022 - val_top-5-accuracy: 0.8004\n",
            "Epoch 47/150\n",
            "\u001b[1m176/176\u001b[0m \u001b[32m━━━━━━━━━━━━━━━━━━━━\u001b[0m\u001b[37m\u001b[0m \u001b[1m18s\u001b[0m 104ms/step - accuracy: 0.6539 - loss: 1.1933 - top-5-accuracy: 0.9076 - val_accuracy: 0.5210 - val_loss: 1.8861 - val_top-5-accuracy: 0.8064\n",
            "Epoch 48/150\n",
            "\u001b[1m176/176\u001b[0m \u001b[32m━━━━━━━━━━━━━━━━━━━━\u001b[0m\u001b[37m\u001b[0m \u001b[1m19s\u001b[0m 111ms/step - accuracy: 0.6586 - loss: 1.1649 - top-5-accuracy: 0.9121 - val_accuracy: 0.5232 - val_loss: 1.9122 - val_top-5-accuracy: 0.8054\n",
            "Epoch 49/150\n",
            "\u001b[1m176/176\u001b[0m \u001b[32m━━━━━━━━━━━━━━━━━━━━\u001b[0m\u001b[37m\u001b[0m \u001b[1m18s\u001b[0m 104ms/step - accuracy: 0.6673 - loss: 1.1300 - top-5-accuracy: 0.9163 - val_accuracy: 0.5230 - val_loss: 1.9157 - val_top-5-accuracy: 0.8022\n",
            "Epoch 50/150\n",
            "\u001b[1m176/176\u001b[0m \u001b[32m━━━━━━━━━━━━━━━━━━━━\u001b[0m\u001b[37m\u001b[0m \u001b[1m19s\u001b[0m 110ms/step - accuracy: 0.6713 - loss: 1.1189 - top-5-accuracy: 0.9210 - val_accuracy: 0.5252 - val_loss: 1.9241 - val_top-5-accuracy: 0.8092\n",
            "Epoch 51/150\n",
            "\u001b[1m176/176\u001b[0m \u001b[32m━━━━━━━━━━━━━━━━━━━━\u001b[0m\u001b[37m\u001b[0m \u001b[1m20s\u001b[0m 111ms/step - accuracy: 0.6725 - loss: 1.1101 - top-5-accuracy: 0.9179 - val_accuracy: 0.5304 - val_loss: 1.8649 - val_top-5-accuracy: 0.8132\n",
            "Epoch 52/150\n",
            "\u001b[1m176/176\u001b[0m \u001b[32m━━━━━━━━━━━━━━━━━━━━\u001b[0m\u001b[37m\u001b[0m \u001b[1m18s\u001b[0m 104ms/step - accuracy: 0.6745 - loss: 1.0983 - top-5-accuracy: 0.9225 - val_accuracy: 0.5232 - val_loss: 1.8690 - val_top-5-accuracy: 0.8088\n",
            "Epoch 53/150\n",
            "\u001b[1m176/176\u001b[0m \u001b[32m━━━━━━━━━━━━━━━━━━━━\u001b[0m\u001b[37m\u001b[0m \u001b[1m18s\u001b[0m 104ms/step - accuracy: 0.6835 - loss: 1.0704 - top-5-accuracy: 0.9249 - val_accuracy: 0.5240 - val_loss: 1.9282 - val_top-5-accuracy: 0.8068\n",
            "Epoch 54/150\n",
            "\u001b[1m176/176\u001b[0m \u001b[32m━━━━━━━━━━━━━━━━━━━━\u001b[0m\u001b[37m\u001b[0m \u001b[1m20s\u001b[0m 111ms/step - accuracy: 0.6913 - loss: 1.0422 - top-5-accuracy: 0.9277 - val_accuracy: 0.5332 - val_loss: 1.9074 - val_top-5-accuracy: 0.8096\n",
            "Epoch 55/150\n",
            "\u001b[1m176/176\u001b[0m \u001b[32m━━━━━━━━━━━━━━━━━━━━\u001b[0m\u001b[37m\u001b[0m \u001b[1m18s\u001b[0m 104ms/step - accuracy: 0.6889 - loss: 1.0559 - top-5-accuracy: 0.9252 - val_accuracy: 0.5298 - val_loss: 1.9066 - val_top-5-accuracy: 0.8118\n",
            "Epoch 56/150\n",
            "\u001b[1m176/176\u001b[0m \u001b[32m━━━━━━━━━━━━━━━━━━━━\u001b[0m\u001b[37m\u001b[0m \u001b[1m18s\u001b[0m 104ms/step - accuracy: 0.6906 - loss: 1.0390 - top-5-accuracy: 0.9295 - val_accuracy: 0.5244 - val_loss: 1.9347 - val_top-5-accuracy: 0.8102\n",
            "Epoch 57/150\n",
            "\u001b[1m176/176\u001b[0m \u001b[32m━━━━━━━━━━━━━━━━━━━━\u001b[0m\u001b[37m\u001b[0m \u001b[1m18s\u001b[0m 105ms/step - accuracy: 0.7020 - loss: 1.0037 - top-5-accuracy: 0.9348 - val_accuracy: 0.5264 - val_loss: 1.9237 - val_top-5-accuracy: 0.8078\n",
            "Epoch 58/150\n",
            "\u001b[1m176/176\u001b[0m \u001b[32m━━━━━━━━━━━━━━━━━━━━\u001b[0m\u001b[37m\u001b[0m \u001b[1m18s\u001b[0m 104ms/step - accuracy: 0.7043 - loss: 0.9880 - top-5-accuracy: 0.9344 - val_accuracy: 0.5288 - val_loss: 1.9257 - val_top-5-accuracy: 0.8108\n",
            "Epoch 59/150\n",
            "\u001b[1m176/176\u001b[0m \u001b[32m━━━━━━━━━━━━━━━━━━━━\u001b[0m\u001b[37m\u001b[0m \u001b[1m18s\u001b[0m 105ms/step - accuracy: 0.7061 - loss: 0.9870 - top-5-accuracy: 0.9351 - val_accuracy: 0.5276 - val_loss: 1.9242 - val_top-5-accuracy: 0.8106\n",
            "Epoch 60/150\n",
            "\u001b[1m176/176\u001b[0m \u001b[32m━━━━━━━━━━━━━━━━━━━━\u001b[0m\u001b[37m\u001b[0m \u001b[1m18s\u001b[0m 104ms/step - accuracy: 0.7133 - loss: 0.9662 - top-5-accuracy: 0.9367 - val_accuracy: 0.5252 - val_loss: 1.9653 - val_top-5-accuracy: 0.8076\n",
            "Epoch 61/150\n",
            "\u001b[1m176/176\u001b[0m \u001b[32m━━━━━━━━━━━━━━━━━━━━\u001b[0m\u001b[37m\u001b[0m \u001b[1m18s\u001b[0m 105ms/step - accuracy: 0.7136 - loss: 0.9627 - top-5-accuracy: 0.9369 - val_accuracy: 0.5322 - val_loss: 1.9311 - val_top-5-accuracy: 0.8088\n",
            "Epoch 62/150\n",
            "\u001b[1m176/176\u001b[0m \u001b[32m━━━━━━━━━━━━━━━━━━━━\u001b[0m\u001b[37m\u001b[0m \u001b[1m19s\u001b[0m 109ms/step - accuracy: 0.7183 - loss: 0.9520 - top-5-accuracy: 0.9388 - val_accuracy: 0.5338 - val_loss: 1.8821 - val_top-5-accuracy: 0.8108\n",
            "Epoch 63/150\n",
            "\u001b[1m176/176\u001b[0m \u001b[32m━━━━━━━━━━━━━━━━━━━━\u001b[0m\u001b[37m\u001b[0m \u001b[1m18s\u001b[0m 104ms/step - accuracy: 0.7188 - loss: 0.9376 - top-5-accuracy: 0.9410 - val_accuracy: 0.5316 - val_loss: 1.9027 - val_top-5-accuracy: 0.8156\n",
            "Epoch 64/150\n",
            "\u001b[1m176/176\u001b[0m \u001b[32m━━━━━━━━━━━━━━━━━━━━\u001b[0m\u001b[37m\u001b[0m \u001b[1m18s\u001b[0m 105ms/step - accuracy: 0.7217 - loss: 0.9337 - top-5-accuracy: 0.9429 - val_accuracy: 0.5272 - val_loss: 1.9559 - val_top-5-accuracy: 0.8100\n",
            "Epoch 65/150\n",
            "\u001b[1m176/176\u001b[0m \u001b[32m━━━━━━━━━━━━━━━━━━━━\u001b[0m\u001b[37m\u001b[0m \u001b[1m18s\u001b[0m 104ms/step - accuracy: 0.7239 - loss: 0.9159 - top-5-accuracy: 0.9430 - val_accuracy: 0.5288 - val_loss: 1.9409 - val_top-5-accuracy: 0.8102\n",
            "Epoch 66/150\n",
            "\u001b[1m176/176\u001b[0m \u001b[32m━━━━━━━━━━━━━━━━━━━━\u001b[0m\u001b[37m\u001b[0m \u001b[1m18s\u001b[0m 105ms/step - accuracy: 0.7268 - loss: 0.9112 - top-5-accuracy: 0.9455 - val_accuracy: 0.5324 - val_loss: 1.9391 - val_top-5-accuracy: 0.8112\n",
            "Epoch 67/150\n",
            "\u001b[1m176/176\u001b[0m \u001b[32m━━━━━━━━━━━━━━━━━━━━\u001b[0m\u001b[37m\u001b[0m \u001b[1m18s\u001b[0m 105ms/step - accuracy: 0.7236 - loss: 0.9230 - top-5-accuracy: 0.9429 - val_accuracy: 0.5322 - val_loss: 1.9536 - val_top-5-accuracy: 0.8114\n",
            "Epoch 68/150\n",
            "\u001b[1m176/176\u001b[0m \u001b[32m━━━━━━━━━━━━━━━━━━━━\u001b[0m\u001b[37m\u001b[0m \u001b[1m18s\u001b[0m 104ms/step - accuracy: 0.6363 - loss: 1.3008 - top-5-accuracy: 0.8959 - val_accuracy: 0.5258 - val_loss: 1.9075 - val_top-5-accuracy: 0.8098\n",
            "Epoch 69/150\n",
            "\u001b[1m176/176\u001b[0m \u001b[32m━━━━━━━━━━━━━━━━━━━━\u001b[0m\u001b[37m\u001b[0m \u001b[1m18s\u001b[0m 105ms/step - accuracy: 0.7154 - loss: 0.9514 - top-5-accuracy: 0.9407 - val_accuracy: 0.5318 - val_loss: 1.9124 - val_top-5-accuracy: 0.8124\n",
            "Epoch 70/150\n",
            "\u001b[1m176/176\u001b[0m \u001b[32m━━━━━━━━━━━━━━━━━━━━\u001b[0m\u001b[37m\u001b[0m \u001b[1m18s\u001b[0m 104ms/step - accuracy: 0.7279 - loss: 0.9121 - top-5-accuracy: 0.9441 - val_accuracy: 0.5326 - val_loss: 1.9098 - val_top-5-accuracy: 0.8144\n",
            "Epoch 71/150\n",
            "\u001b[1m176/176\u001b[0m \u001b[32m━━━━━━━━━━━━━━━━━━━━\u001b[0m\u001b[37m\u001b[0m \u001b[1m18s\u001b[0m 105ms/step - accuracy: 0.7302 - loss: 0.8898 - top-5-accuracy: 0.9478 - val_accuracy: 0.5332 - val_loss: 1.9200 - val_top-5-accuracy: 0.8158\n",
            "Epoch 72/150\n",
            "\u001b[1m176/176\u001b[0m \u001b[32m━━━━━━━━━━━━━━━━━━━━\u001b[0m\u001b[37m\u001b[0m \u001b[1m19s\u001b[0m 110ms/step - accuracy: 0.7388 - loss: 0.8690 - top-5-accuracy: 0.9506 - val_accuracy: 0.5368 - val_loss: 1.9358 - val_top-5-accuracy: 0.8142\n",
            "Epoch 73/150\n",
            "\u001b[1m176/176\u001b[0m \u001b[32m━━━━━━━━━━━━━━━━━━━━\u001b[0m\u001b[37m\u001b[0m \u001b[1m18s\u001b[0m 104ms/step - accuracy: 0.7460 - loss: 0.8403 - top-5-accuracy: 0.9528 - val_accuracy: 0.5328 - val_loss: 1.9280 - val_top-5-accuracy: 0.8126\n",
            "Epoch 74/150\n",
            "\u001b[1m176/176\u001b[0m \u001b[32m━━━━━━━━━━━━━━━━━━━━\u001b[0m\u001b[37m\u001b[0m \u001b[1m18s\u001b[0m 105ms/step - accuracy: 0.7482 - loss: 0.8313 - top-5-accuracy: 0.9525 - val_accuracy: 0.5310 - val_loss: 1.9767 - val_top-5-accuracy: 0.8176\n",
            "Epoch 75/150\n",
            "\u001b[1m176/176\u001b[0m \u001b[32m━━━━━━━━━━━━━━━━━━━━\u001b[0m\u001b[37m\u001b[0m \u001b[1m18s\u001b[0m 104ms/step - accuracy: 0.7451 - loss: 0.8510 - top-5-accuracy: 0.9516 - val_accuracy: 0.5328 - val_loss: 1.9558 - val_top-5-accuracy: 0.8110\n",
            "Epoch 76/150\n",
            "\u001b[1m176/176\u001b[0m \u001b[32m━━━━━━━━━━━━━━━━━━━━\u001b[0m\u001b[37m\u001b[0m \u001b[1m18s\u001b[0m 105ms/step - accuracy: 0.7513 - loss: 0.8311 - top-5-accuracy: 0.9530 - val_accuracy: 0.5352 - val_loss: 1.9631 - val_top-5-accuracy: 0.8114\n",
            "Epoch 77/150\n",
            "\u001b[1m176/176\u001b[0m \u001b[32m━━━━━━━━━━━━━━━━━━━━\u001b[0m\u001b[37m\u001b[0m \u001b[1m20s\u001b[0m 111ms/step - accuracy: 0.7508 - loss: 0.8169 - top-5-accuracy: 0.9555 - val_accuracy: 0.5392 - val_loss: 1.9407 - val_top-5-accuracy: 0.8186\n",
            "Epoch 78/150\n",
            "\u001b[1m176/176\u001b[0m \u001b[32m━━━━━━━━━━━━━━━━━━━━\u001b[0m\u001b[37m\u001b[0m \u001b[1m18s\u001b[0m 105ms/step - accuracy: 0.7552 - loss: 0.8182 - top-5-accuracy: 0.9552 - val_accuracy: 0.5352 - val_loss: 1.9429 - val_top-5-accuracy: 0.8168\n",
            "Epoch 79/150\n",
            "\u001b[1m176/176\u001b[0m \u001b[32m━━━━━━━━━━━━━━━━━━━━\u001b[0m\u001b[37m\u001b[0m \u001b[1m18s\u001b[0m 105ms/step - accuracy: 0.7557 - loss: 0.8067 - top-5-accuracy: 0.9574 - val_accuracy: 0.5336 - val_loss: 1.9681 - val_top-5-accuracy: 0.8150\n",
            "Epoch 80/150\n",
            "\u001b[1m176/176\u001b[0m \u001b[32m━━━━━━━━━━━━━━━━━━━━\u001b[0m\u001b[37m\u001b[0m \u001b[1m18s\u001b[0m 105ms/step - accuracy: 0.7583 - loss: 0.7939 - top-5-accuracy: 0.9549 - val_accuracy: 0.5370 - val_loss: 1.9319 - val_top-5-accuracy: 0.8184\n",
            "Epoch 81/150\n",
            "\u001b[1m176/176\u001b[0m \u001b[32m━━━━━━━━━━━━━━━━━━━━\u001b[0m\u001b[37m\u001b[0m \u001b[1m18s\u001b[0m 104ms/step - accuracy: 0.7662 - loss: 0.7814 - top-5-accuracy: 0.9587 - val_accuracy: 0.5380 - val_loss: 1.9650 - val_top-5-accuracy: 0.8124\n",
            "Epoch 82/150\n",
            "\u001b[1m176/176\u001b[0m \u001b[32m━━━━━━━━━━━━━━━━━━━━\u001b[0m\u001b[37m\u001b[0m \u001b[1m18s\u001b[0m 104ms/step - accuracy: 0.7554 - loss: 0.7994 - top-5-accuracy: 0.9565 - val_accuracy: 0.5354 - val_loss: 1.9717 - val_top-5-accuracy: 0.8118\n",
            "Epoch 83/150\n",
            "\u001b[1m176/176\u001b[0m \u001b[32m━━━━━━━━━━━━━━━━━━━━\u001b[0m\u001b[37m\u001b[0m \u001b[1m19s\u001b[0m 110ms/step - accuracy: 0.7623 - loss: 0.7847 - top-5-accuracy: 0.9581 - val_accuracy: 0.5404 - val_loss: 1.9726 - val_top-5-accuracy: 0.8162\n",
            "Epoch 84/150\n",
            "\u001b[1m176/176\u001b[0m \u001b[32m━━━━━━━━━━━━━━━━━━━━\u001b[0m\u001b[37m\u001b[0m \u001b[1m19s\u001b[0m 110ms/step - accuracy: 0.7618 - loss: 0.7844 - top-5-accuracy: 0.9583 - val_accuracy: 0.5426 - val_loss: 1.9717 - val_top-5-accuracy: 0.8150\n",
            "Epoch 85/150\n",
            "\u001b[1m176/176\u001b[0m \u001b[32m━━━━━━━━━━━━━━━━━━━━\u001b[0m\u001b[37m\u001b[0m \u001b[1m18s\u001b[0m 104ms/step - accuracy: 0.7711 - loss: 0.7427 - top-5-accuracy: 0.9631 - val_accuracy: 0.5358 - val_loss: 2.0004 - val_top-5-accuracy: 0.8128\n",
            "Epoch 86/150\n",
            "\u001b[1m176/176\u001b[0m \u001b[32m━━━━━━━━━━━━━━━━━━━━\u001b[0m\u001b[37m\u001b[0m \u001b[1m18s\u001b[0m 105ms/step - accuracy: 0.7628 - loss: 0.7687 - top-5-accuracy: 0.9619 - val_accuracy: 0.5388 - val_loss: 1.9881 - val_top-5-accuracy: 0.8130\n",
            "Epoch 87/150\n",
            "\u001b[1m176/176\u001b[0m \u001b[32m━━━━━━━━━━━━━━━━━━━━\u001b[0m\u001b[37m\u001b[0m \u001b[1m18s\u001b[0m 105ms/step - accuracy: 0.7679 - loss: 0.7651 - top-5-accuracy: 0.9597 - val_accuracy: 0.5418 - val_loss: 1.9836 - val_top-5-accuracy: 0.8190\n",
            "Epoch 88/150\n",
            "\u001b[1m176/176\u001b[0m \u001b[32m━━━━━━━━━━━━━━━━━━━━\u001b[0m\u001b[37m\u001b[0m \u001b[1m18s\u001b[0m 104ms/step - accuracy: 0.7681 - loss: 0.7517 - top-5-accuracy: 0.9619 - val_accuracy: 0.5348 - val_loss: 2.0218 - val_top-5-accuracy: 0.8122\n",
            "Epoch 89/150\n",
            "\u001b[1m176/176\u001b[0m \u001b[32m━━━━━━━━━━━━━━━━━━━━\u001b[0m\u001b[37m\u001b[0m \u001b[1m18s\u001b[0m 105ms/step - accuracy: 0.7785 - loss: 0.7298 - top-5-accuracy: 0.9651 - val_accuracy: 0.5326 - val_loss: 2.0068 - val_top-5-accuracy: 0.8100\n",
            "Epoch 90/150\n",
            "\u001b[1m176/176\u001b[0m \u001b[32m━━━━━━━━━━━━━━━━━━━━\u001b[0m\u001b[37m\u001b[0m \u001b[1m18s\u001b[0m 105ms/step - accuracy: 0.7759 - loss: 0.7337 - top-5-accuracy: 0.9626 - val_accuracy: 0.5380 - val_loss: 2.0040 - val_top-5-accuracy: 0.8158\n",
            "Epoch 91/150\n",
            "\u001b[1m176/176\u001b[0m \u001b[32m━━━━━━━━━━━━━━━━━━━━\u001b[0m\u001b[37m\u001b[0m \u001b[1m18s\u001b[0m 105ms/step - accuracy: 0.7803 - loss: 0.7156 - top-5-accuracy: 0.9659 - val_accuracy: 0.5328 - val_loss: 1.9958 - val_top-5-accuracy: 0.8138\n",
            "Epoch 92/150\n",
            "\u001b[1m176/176\u001b[0m \u001b[32m━━━━━━━━━━━━━━━━━━━━\u001b[0m\u001b[37m\u001b[0m \u001b[1m18s\u001b[0m 105ms/step - accuracy: 0.7804 - loss: 0.7147 - top-5-accuracy: 0.9652 - val_accuracy: 0.5362 - val_loss: 2.0377 - val_top-5-accuracy: 0.8126\n",
            "Epoch 93/150\n",
            "\u001b[1m176/176\u001b[0m \u001b[32m━━━━━━━━━━━━━━━━━━━━\u001b[0m\u001b[37m\u001b[0m \u001b[1m19s\u001b[0m 110ms/step - accuracy: 0.7792 - loss: 0.7185 - top-5-accuracy: 0.9659 - val_accuracy: 0.5452 - val_loss: 1.9902 - val_top-5-accuracy: 0.8154\n",
            "Epoch 94/150\n",
            "\u001b[1m176/176\u001b[0m \u001b[32m━━━━━━━━━━━━━━━━━━━━\u001b[0m\u001b[37m\u001b[0m \u001b[1m18s\u001b[0m 105ms/step - accuracy: 0.7840 - loss: 0.7116 - top-5-accuracy: 0.9645 - val_accuracy: 0.5382 - val_loss: 2.0003 - val_top-5-accuracy: 0.8130\n",
            "Epoch 95/150\n",
            "\u001b[1m176/176\u001b[0m \u001b[32m━━━━━━━━━━━━━━━━━━━━\u001b[0m\u001b[37m\u001b[0m \u001b[1m18s\u001b[0m 104ms/step - accuracy: 0.7777 - loss: 0.7244 - top-5-accuracy: 0.9644 - val_accuracy: 0.5436 - val_loss: 2.0016 - val_top-5-accuracy: 0.8162\n",
            "Epoch 96/150\n",
            "\u001b[1m176/176\u001b[0m \u001b[32m━━━━━━━━━━━━━━━━━━━━\u001b[0m\u001b[37m\u001b[0m \u001b[1m18s\u001b[0m 105ms/step - accuracy: 0.6161 - loss: 1.4408 - top-5-accuracy: 0.8669 - val_accuracy: 0.5168 - val_loss: 2.0062 - val_top-5-accuracy: 0.7950\n",
            "Epoch 97/150\n",
            "\u001b[1m176/176\u001b[0m \u001b[32m━━━━━━━━━━━━━━━━━━━━\u001b[0m\u001b[37m\u001b[0m \u001b[1m18s\u001b[0m 105ms/step - accuracy: 0.7303 - loss: 0.8967 - top-5-accuracy: 0.9493 - val_accuracy: 0.5356 - val_loss: 1.9810 - val_top-5-accuracy: 0.8118\n",
            "Epoch 98/150\n",
            "\u001b[1m176/176\u001b[0m \u001b[32m━━━━━━━━━━━━━━━━━━━━\u001b[0m\u001b[37m\u001b[0m \u001b[1m18s\u001b[0m 105ms/step - accuracy: 0.7610 - loss: 0.8030 - top-5-accuracy: 0.9574 - val_accuracy: 0.5306 - val_loss: 2.0222 - val_top-5-accuracy: 0.8130\n",
            "Epoch 99/150\n",
            "\u001b[1m176/176\u001b[0m \u001b[32m━━━━━━━━━━━━━━━━━━━━\u001b[0m\u001b[37m\u001b[0m \u001b[1m18s\u001b[0m 105ms/step - accuracy: 0.7674 - loss: 0.7579 - top-5-accuracy: 0.9623 - val_accuracy: 0.5340 - val_loss: 2.0557 - val_top-5-accuracy: 0.8128\n",
            "Epoch 100/150\n",
            "\u001b[1m176/176\u001b[0m \u001b[32m━━━━━━━━━━━━━━━━━━━━\u001b[0m\u001b[37m\u001b[0m \u001b[1m18s\u001b[0m 105ms/step - accuracy: 0.7762 - loss: 0.7327 - top-5-accuracy: 0.9634 - val_accuracy: 0.5408 - val_loss: 2.0112 - val_top-5-accuracy: 0.8160\n",
            "Epoch 101/150\n",
            "\u001b[1m176/176\u001b[0m \u001b[32m━━━━━━━━━━━━━━━━━━━━\u001b[0m\u001b[37m\u001b[0m \u001b[1m18s\u001b[0m 105ms/step - accuracy: 0.7877 - loss: 0.6987 - top-5-accuracy: 0.9664 - val_accuracy: 0.5328 - val_loss: 2.0324 - val_top-5-accuracy: 0.8130\n",
            "Epoch 102/150\n",
            "\u001b[1m176/176\u001b[0m \u001b[32m━━━━━━━━━━━━━━━━━━━━\u001b[0m\u001b[37m\u001b[0m \u001b[1m18s\u001b[0m 104ms/step - accuracy: 0.7861 - loss: 0.6928 - top-5-accuracy: 0.9687 - val_accuracy: 0.5404 - val_loss: 2.0321 - val_top-5-accuracy: 0.8170\n",
            "Epoch 103/150\n",
            "\u001b[1m176/176\u001b[0m \u001b[32m━━━━━━━━━━━━━━━━━━━━\u001b[0m\u001b[37m\u001b[0m \u001b[1m18s\u001b[0m 105ms/step - accuracy: 0.7922 - loss: 0.6784 - top-5-accuracy: 0.9690 - val_accuracy: 0.5402 - val_loss: 2.0396 - val_top-5-accuracy: 0.8156\n",
            "Epoch 104/150\n",
            "\u001b[1m176/176\u001b[0m \u001b[32m━━━━━━━━━━━━━━━━━━━━\u001b[0m\u001b[37m\u001b[0m \u001b[1m18s\u001b[0m 105ms/step - accuracy: 0.7944 - loss: 0.6687 - top-5-accuracy: 0.9699 - val_accuracy: 0.5372 - val_loss: 2.0440 - val_top-5-accuracy: 0.8154\n",
            "Epoch 105/150\n",
            "\u001b[1m176/176\u001b[0m \u001b[32m━━━━━━━━━━━━━━━━━━━━\u001b[0m\u001b[37m\u001b[0m \u001b[1m18s\u001b[0m 104ms/step - accuracy: 0.8021 - loss: 0.6505 - top-5-accuracy: 0.9709 - val_accuracy: 0.5396 - val_loss: 2.0386 - val_top-5-accuracy: 0.8144\n",
            "Epoch 106/150\n",
            "\u001b[1m176/176\u001b[0m \u001b[32m━━━━━━━━━━━━━━━━━━━━\u001b[0m\u001b[37m\u001b[0m \u001b[1m18s\u001b[0m 104ms/step - accuracy: 0.8019 - loss: 0.6549 - top-5-accuracy: 0.9698 - val_accuracy: 0.5398 - val_loss: 2.0242 - val_top-5-accuracy: 0.8196\n",
            "Epoch 107/150\n",
            "\u001b[1m176/176\u001b[0m \u001b[32m━━━━━━━━━━━━━━━━━━━━\u001b[0m\u001b[37m\u001b[0m \u001b[1m18s\u001b[0m 105ms/step - accuracy: 0.7962 - loss: 0.6603 - top-5-accuracy: 0.9695 - val_accuracy: 0.5392 - val_loss: 2.0424 - val_top-5-accuracy: 0.8152\n",
            "Epoch 108/150\n",
            "\u001b[1m176/176\u001b[0m \u001b[32m━━━━━━━━━━━━━━━━━━━━\u001b[0m\u001b[37m\u001b[0m \u001b[1m18s\u001b[0m 105ms/step - accuracy: 0.8011 - loss: 0.6492 - top-5-accuracy: 0.9712 - val_accuracy: 0.5270 - val_loss: 2.0958 - val_top-5-accuracy: 0.8084\n",
            "Epoch 109/150\n",
            "\u001b[1m176/176\u001b[0m \u001b[32m━━━━━━━━━━━━━━━━━━━━\u001b[0m\u001b[37m\u001b[0m \u001b[1m18s\u001b[0m 105ms/step - accuracy: 0.7979 - loss: 0.6611 - top-5-accuracy: 0.9698 - val_accuracy: 0.5414 - val_loss: 2.0481 - val_top-5-accuracy: 0.8164\n",
            "Epoch 110/150\n",
            "\u001b[1m176/176\u001b[0m \u001b[32m━━━━━━━━━━━━━━━━━━━━\u001b[0m\u001b[37m\u001b[0m \u001b[1m18s\u001b[0m 105ms/step - accuracy: 0.8053 - loss: 0.6386 - top-5-accuracy: 0.9708 - val_accuracy: 0.5406 - val_loss: 2.0552 - val_top-5-accuracy: 0.8136\n",
            "Epoch 111/150\n",
            "\u001b[1m176/176\u001b[0m \u001b[32m━━━━━━━━━━━━━━━━━━━━\u001b[0m\u001b[37m\u001b[0m \u001b[1m19s\u001b[0m 110ms/step - accuracy: 0.8014 - loss: 0.6454 - top-5-accuracy: 0.9718 - val_accuracy: 0.5508 - val_loss: 2.0819 - val_top-5-accuracy: 0.8160\n",
            "Epoch 112/150\n",
            "\u001b[1m176/176\u001b[0m \u001b[32m━━━━━━━━━━━━━━━━━━━━\u001b[0m\u001b[37m\u001b[0m \u001b[1m18s\u001b[0m 105ms/step - accuracy: 0.8041 - loss: 0.6330 - top-5-accuracy: 0.9721 - val_accuracy: 0.5352 - val_loss: 2.0413 - val_top-5-accuracy: 0.8104\n",
            "Epoch 113/150\n",
            "\u001b[1m176/176\u001b[0m \u001b[32m━━━━━━━━━━━━━━━━━━━━\u001b[0m\u001b[37m\u001b[0m \u001b[1m18s\u001b[0m 105ms/step - accuracy: 0.8057 - loss: 0.6387 - top-5-accuracy: 0.9708 - val_accuracy: 0.5430 - val_loss: 2.0722 - val_top-5-accuracy: 0.8174\n",
            "Epoch 114/150\n",
            "\u001b[1m176/176\u001b[0m \u001b[32m━━━━━━━━━━━━━━━━━━━━\u001b[0m\u001b[37m\u001b[0m \u001b[1m18s\u001b[0m 105ms/step - accuracy: 0.8038 - loss: 0.6391 - top-5-accuracy: 0.9715 - val_accuracy: 0.5418 - val_loss: 2.0926 - val_top-5-accuracy: 0.8186\n",
            "Epoch 115/150\n",
            "\u001b[1m176/176\u001b[0m \u001b[32m━━━━━━━━━━━━━━━━━━━━\u001b[0m\u001b[37m\u001b[0m \u001b[1m18s\u001b[0m 104ms/step - accuracy: 0.8010 - loss: 0.6504 - top-5-accuracy: 0.9708 - val_accuracy: 0.5360 - val_loss: 2.1113 - val_top-5-accuracy: 0.8178\n",
            "Epoch 116/150\n",
            "\u001b[1m176/176\u001b[0m \u001b[32m━━━━━━━━━━━━━━━━━━━━\u001b[0m\u001b[37m\u001b[0m \u001b[1m18s\u001b[0m 105ms/step - accuracy: 0.8095 - loss: 0.6115 - top-5-accuracy: 0.9763 - val_accuracy: 0.5418 - val_loss: 2.0544 - val_top-5-accuracy: 0.8196\n",
            "Epoch 117/150\n",
            "\u001b[1m176/176\u001b[0m \u001b[32m━━━━━━━━━━━━━━━━━━━━\u001b[0m\u001b[37m\u001b[0m \u001b[1m18s\u001b[0m 105ms/step - accuracy: 0.8096 - loss: 0.6233 - top-5-accuracy: 0.9732 - val_accuracy: 0.5360 - val_loss: 2.1244 - val_top-5-accuracy: 0.8128\n",
            "Epoch 118/150\n",
            "\u001b[1m176/176\u001b[0m \u001b[32m━━━━━━━━━━━━━━━━━━━━\u001b[0m\u001b[37m\u001b[0m \u001b[1m18s\u001b[0m 105ms/step - accuracy: 0.8120 - loss: 0.6075 - top-5-accuracy: 0.9753 - val_accuracy: 0.5454 - val_loss: 2.0959 - val_top-5-accuracy: 0.8188\n",
            "Epoch 119/150\n",
            "\u001b[1m176/176\u001b[0m \u001b[32m━━━━━━━━━━━━━━━━━━━━\u001b[0m\u001b[37m\u001b[0m \u001b[1m18s\u001b[0m 105ms/step - accuracy: 0.8033 - loss: 0.6344 - top-5-accuracy: 0.9744 - val_accuracy: 0.5446 - val_loss: 2.1031 - val_top-5-accuracy: 0.8186\n",
            "Epoch 120/150\n",
            "\u001b[1m176/176\u001b[0m \u001b[32m━━━━━━━━━━━━━━━━━━━━\u001b[0m\u001b[37m\u001b[0m \u001b[1m18s\u001b[0m 105ms/step - accuracy: 0.8109 - loss: 0.6175 - top-5-accuracy: 0.9737 - val_accuracy: 0.5288 - val_loss: 2.1010 - val_top-5-accuracy: 0.8144\n",
            "Epoch 121/150\n",
            "\u001b[1m176/176\u001b[0m \u001b[32m━━━━━━━━━━━━━━━━━━━━\u001b[0m\u001b[37m\u001b[0m \u001b[1m18s\u001b[0m 105ms/step - accuracy: 0.8131 - loss: 0.6048 - top-5-accuracy: 0.9748 - val_accuracy: 0.5408 - val_loss: 2.1335 - val_top-5-accuracy: 0.8188\n",
            "Epoch 122/150\n",
            "\u001b[1m176/176\u001b[0m \u001b[32m━━━━━━━━━━━━━━━━━━━━\u001b[0m\u001b[37m\u001b[0m \u001b[1m18s\u001b[0m 105ms/step - accuracy: 0.8120 - loss: 0.6151 - top-5-accuracy: 0.9730 - val_accuracy: 0.5418 - val_loss: 2.0691 - val_top-5-accuracy: 0.8194\n",
            "Epoch 123/150\n",
            "\u001b[1m176/176\u001b[0m \u001b[32m━━━━━━━━━━━━━━━━━━━━\u001b[0m\u001b[37m\u001b[0m \u001b[1m18s\u001b[0m 105ms/step - accuracy: 0.8117 - loss: 0.6060 - top-5-accuracy: 0.9753 - val_accuracy: 0.5458 - val_loss: 2.0627 - val_top-5-accuracy: 0.8218\n",
            "Epoch 124/150\n",
            "\u001b[1m176/176\u001b[0m \u001b[32m━━━━━━━━━━━━━━━━━━━━\u001b[0m\u001b[37m\u001b[0m \u001b[1m18s\u001b[0m 105ms/step - accuracy: 0.8162 - loss: 0.5932 - top-5-accuracy: 0.9756 - val_accuracy: 0.5316 - val_loss: 2.0655 - val_top-5-accuracy: 0.8096\n",
            "Epoch 125/150\n",
            "\u001b[1m176/176\u001b[0m \u001b[32m━━━━━━━━━━━━━━━━━━━━\u001b[0m\u001b[37m\u001b[0m \u001b[1m18s\u001b[0m 104ms/step - accuracy: 0.8155 - loss: 0.6028 - top-5-accuracy: 0.9755 - val_accuracy: 0.5398 - val_loss: 2.1323 - val_top-5-accuracy: 0.8206\n",
            "Epoch 126/150\n",
            "\u001b[1m176/176\u001b[0m \u001b[32m━━━━━━━━━━━━━━━━━━━━\u001b[0m\u001b[37m\u001b[0m \u001b[1m18s\u001b[0m 105ms/step - accuracy: 0.8143 - loss: 0.6091 - top-5-accuracy: 0.9744 - val_accuracy: 0.5466 - val_loss: 2.0379 - val_top-5-accuracy: 0.8180\n",
            "Epoch 127/150\n",
            "\u001b[1m176/176\u001b[0m \u001b[32m━━━━━━━━━━━━━━━━━━━━\u001b[0m\u001b[37m\u001b[0m \u001b[1m18s\u001b[0m 105ms/step - accuracy: 0.8178 - loss: 0.5919 - top-5-accuracy: 0.9746 - val_accuracy: 0.5388 - val_loss: 2.1070 - val_top-5-accuracy: 0.8116\n",
            "Epoch 128/150\n",
            "\u001b[1m176/176\u001b[0m \u001b[32m━━━━━━━━━━━━━━━━━━━━\u001b[0m\u001b[37m\u001b[0m \u001b[1m18s\u001b[0m 105ms/step - accuracy: 0.8141 - loss: 0.6111 - top-5-accuracy: 0.9747 - val_accuracy: 0.5378 - val_loss: 2.0774 - val_top-5-accuracy: 0.8168\n",
            "Epoch 129/150\n",
            "\u001b[1m176/176\u001b[0m \u001b[32m━━━━━━━━━━━━━━━━━━━━\u001b[0m\u001b[37m\u001b[0m \u001b[1m18s\u001b[0m 105ms/step - accuracy: 0.8217 - loss: 0.5903 - top-5-accuracy: 0.9754 - val_accuracy: 0.5442 - val_loss: 2.0972 - val_top-5-accuracy: 0.8166\n",
            "Epoch 130/150\n",
            "\u001b[1m176/176\u001b[0m \u001b[32m━━━━━━━━━━━━━━━━━━━━\u001b[0m\u001b[37m\u001b[0m \u001b[1m18s\u001b[0m 105ms/step - accuracy: 0.8212 - loss: 0.5829 - top-5-accuracy: 0.9773 - val_accuracy: 0.5396 - val_loss: 2.0920 - val_top-5-accuracy: 0.8176\n",
            "Epoch 131/150\n",
            "\u001b[1m176/176\u001b[0m \u001b[32m━━━━━━━━━━━━━━━━━━━━\u001b[0m\u001b[37m\u001b[0m \u001b[1m18s\u001b[0m 105ms/step - accuracy: 0.8180 - loss: 0.5943 - top-5-accuracy: 0.9763 - val_accuracy: 0.5434 - val_loss: 2.0784 - val_top-5-accuracy: 0.8182\n",
            "Epoch 132/150\n",
            "\u001b[1m176/176\u001b[0m \u001b[32m━━━━━━━━━━━━━━━━━━━━\u001b[0m\u001b[37m\u001b[0m \u001b[1m18s\u001b[0m 105ms/step - accuracy: 0.8184 - loss: 0.5956 - top-5-accuracy: 0.9754 - val_accuracy: 0.5340 - val_loss: 2.1080 - val_top-5-accuracy: 0.8094\n",
            "Epoch 133/150\n",
            "\u001b[1m176/176\u001b[0m \u001b[32m━━━━━━━━━━━━━━━━━━━━\u001b[0m\u001b[37m\u001b[0m \u001b[1m18s\u001b[0m 105ms/step - accuracy: 0.8220 - loss: 0.5788 - top-5-accuracy: 0.9769 - val_accuracy: 0.5328 - val_loss: 2.0812 - val_top-5-accuracy: 0.8114\n",
            "Epoch 134/150\n",
            "\u001b[1m176/176\u001b[0m \u001b[32m━━━━━━━━━━━━━━━━━━━━\u001b[0m\u001b[37m\u001b[0m \u001b[1m19s\u001b[0m 105ms/step - accuracy: 0.8235 - loss: 0.5692 - top-5-accuracy: 0.9780 - val_accuracy: 0.5440 - val_loss: 2.0729 - val_top-5-accuracy: 0.8172\n",
            "Epoch 135/150\n",
            "\u001b[1m176/176\u001b[0m \u001b[32m━━━━━━━━━━━━━━━━━━━━\u001b[0m\u001b[37m\u001b[0m \u001b[1m18s\u001b[0m 104ms/step - accuracy: 0.8240 - loss: 0.5754 - top-5-accuracy: 0.9767 - val_accuracy: 0.5336 - val_loss: 2.1537 - val_top-5-accuracy: 0.8166\n",
            "Epoch 136/150\n",
            "\u001b[1m176/176\u001b[0m \u001b[32m━━━━━━━━━━━━━━━━━━━━\u001b[0m\u001b[37m\u001b[0m \u001b[1m18s\u001b[0m 105ms/step - accuracy: 0.8222 - loss: 0.5815 - top-5-accuracy: 0.9780 - val_accuracy: 0.5386 - val_loss: 2.0955 - val_top-5-accuracy: 0.8188\n",
            "Epoch 137/150\n",
            "\u001b[1m176/176\u001b[0m \u001b[32m━━━━━━━━━━━━━━━━━━━━\u001b[0m\u001b[37m\u001b[0m \u001b[1m18s\u001b[0m 105ms/step - accuracy: 0.8199 - loss: 0.5845 - top-5-accuracy: 0.9773 - val_accuracy: 0.5342 - val_loss: 2.1701 - val_top-5-accuracy: 0.8118\n",
            "Epoch 138/150\n",
            "\u001b[1m176/176\u001b[0m \u001b[32m━━━━━━━━━━━━━━━━━━━━\u001b[0m\u001b[37m\u001b[0m \u001b[1m18s\u001b[0m 105ms/step - accuracy: 0.8255 - loss: 0.5687 - top-5-accuracy: 0.9790 - val_accuracy: 0.5436 - val_loss: 2.1201 - val_top-5-accuracy: 0.8138\n",
            "Epoch 139/150\n",
            "\u001b[1m176/176\u001b[0m \u001b[32m━━━━━━━━━━━━━━━━━━━━\u001b[0m\u001b[37m\u001b[0m \u001b[1m18s\u001b[0m 105ms/step - accuracy: 0.8275 - loss: 0.5672 - top-5-accuracy: 0.9760 - val_accuracy: 0.5448 - val_loss: 2.1992 - val_top-5-accuracy: 0.8160\n",
            "Epoch 140/150\n",
            "\u001b[1m176/176\u001b[0m \u001b[32m━━━━━━━━━━━━━━━━━━━━\u001b[0m\u001b[37m\u001b[0m \u001b[1m18s\u001b[0m 105ms/step - accuracy: 0.8229 - loss: 0.5776 - top-5-accuracy: 0.9776 - val_accuracy: 0.5456 - val_loss: 2.0691 - val_top-5-accuracy: 0.8174\n",
            "Epoch 141/150\n",
            "\u001b[1m176/176\u001b[0m \u001b[32m━━━━━━━━━━━━━━━━━━━━\u001b[0m\u001b[37m\u001b[0m \u001b[1m18s\u001b[0m 105ms/step - accuracy: 0.8278 - loss: 0.5604 - top-5-accuracy: 0.9804 - val_accuracy: 0.5468 - val_loss: 2.1388 - val_top-5-accuracy: 0.8142\n",
            "Epoch 142/150\n",
            "\u001b[1m176/176\u001b[0m \u001b[32m━━━━━━━━━━━━━━━━━━━━\u001b[0m\u001b[37m\u001b[0m \u001b[1m18s\u001b[0m 105ms/step - accuracy: 0.8267 - loss: 0.5661 - top-5-accuracy: 0.9779 - val_accuracy: 0.5412 - val_loss: 2.1559 - val_top-5-accuracy: 0.8154\n",
            "Epoch 143/150\n",
            "\u001b[1m176/176\u001b[0m \u001b[32m━━━━━━━━━━━━━━━━━━━━\u001b[0m\u001b[37m\u001b[0m \u001b[1m18s\u001b[0m 105ms/step - accuracy: 0.8281 - loss: 0.5622 - top-5-accuracy: 0.9786 - val_accuracy: 0.5350 - val_loss: 2.1609 - val_top-5-accuracy: 0.8120\n",
            "Epoch 144/150\n",
            "\u001b[1m176/176\u001b[0m \u001b[32m━━━━━━━━━━━━━━━━━━━━\u001b[0m\u001b[37m\u001b[0m \u001b[1m18s\u001b[0m 105ms/step - accuracy: 0.8327 - loss: 0.5547 - top-5-accuracy: 0.9789 - val_accuracy: 0.5314 - val_loss: 2.1956 - val_top-5-accuracy: 0.8148\n",
            "Epoch 145/150\n",
            "\u001b[1m176/176\u001b[0m \u001b[32m━━━━━━━━━━━━━━━━━━━━\u001b[0m\u001b[37m\u001b[0m \u001b[1m18s\u001b[0m 105ms/step - accuracy: 0.8324 - loss: 0.5551 - top-5-accuracy: 0.9786 - val_accuracy: 0.5416 - val_loss: 2.1200 - val_top-5-accuracy: 0.8154\n",
            "Epoch 146/150\n",
            "\u001b[1m176/176\u001b[0m \u001b[32m━━━━━━━━━━━━━━━━━━━━\u001b[0m\u001b[37m\u001b[0m \u001b[1m18s\u001b[0m 105ms/step - accuracy: 0.8315 - loss: 0.5499 - top-5-accuracy: 0.9796 - val_accuracy: 0.5384 - val_loss: 2.1956 - val_top-5-accuracy: 0.8154\n",
            "Epoch 147/150\n",
            "\u001b[1m176/176\u001b[0m \u001b[32m━━━━━━━━━━━━━━━━━━━━\u001b[0m\u001b[37m\u001b[0m \u001b[1m18s\u001b[0m 105ms/step - accuracy: 0.8321 - loss: 0.5397 - top-5-accuracy: 0.9791 - val_accuracy: 0.5424 - val_loss: 2.1640 - val_top-5-accuracy: 0.8174\n",
            "Epoch 148/150\n",
            "\u001b[1m176/176\u001b[0m \u001b[32m━━━━━━━━━━━━━━━━━━━━\u001b[0m\u001b[37m\u001b[0m \u001b[1m18s\u001b[0m 105ms/step - accuracy: 0.8337 - loss: 0.5523 - top-5-accuracy: 0.9784 - val_accuracy: 0.5382 - val_loss: 2.2246 - val_top-5-accuracy: 0.8142\n",
            "Epoch 149/150\n",
            "\u001b[1m176/176\u001b[0m \u001b[32m━━━━━━━━━━━━━━━━━━━━\u001b[0m\u001b[37m\u001b[0m \u001b[1m18s\u001b[0m 105ms/step - accuracy: 0.8334 - loss: 0.5475 - top-5-accuracy: 0.9776 - val_accuracy: 0.5386 - val_loss: 2.1488 - val_top-5-accuracy: 0.8124\n",
            "Epoch 150/150\n",
            "\u001b[1m176/176\u001b[0m \u001b[32m━━━━━━━━━━━━━━━━━━━━\u001b[0m\u001b[37m\u001b[0m \u001b[1m18s\u001b[0m 105ms/step - accuracy: 0.8357 - loss: 0.5327 - top-5-accuracy: 0.9802 - val_accuracy: 0.5458 - val_loss: 2.1487 - val_top-5-accuracy: 0.8134\n",
            "\u001b[1m313/313\u001b[0m \u001b[32m━━━━━━━━━━━━━━━━━━━━\u001b[0m\u001b[37m\u001b[0m \u001b[1m3s\u001b[0m 8ms/step - accuracy: 0.5571 - loss: 2.0059 - top-5-accuracy: 0.8111\n",
            "Test accuracy: 55.56%\n",
            "Test top 5 accuracy: 81.34%\n"
          ]
        }
      ],
      "source": [
        "def run_experiment(model):\n",
        "    optimizer = keras.optimizers.AdamW(\n",
        "        learning_rate=learning_rate, weight_decay=weight_decay\n",
        "    )\n",
        "\n",
        "    model.compile(\n",
        "        optimizer=optimizer,\n",
        "        loss=keras.losses.SparseCategoricalCrossentropy(from_logits=True),\n",
        "        metrics=[\n",
        "            keras.metrics.SparseCategoricalAccuracy(name=\"accuracy\"),\n",
        "            keras.metrics.SparseTopKCategoricalAccuracy(5, name=\"top-5-accuracy\"),\n",
        "        ],\n",
        "    )\n",
        "\n",
        "    checkpoint_filepath = \"./checkpoint.weights.h5\"\n",
        "    checkpoint_callback = keras.callbacks.ModelCheckpoint(\n",
        "        checkpoint_filepath,\n",
        "        monitor=\"val_accuracy\",\n",
        "        save_best_only=True,\n",
        "        save_weights_only=True,\n",
        "    )\n",
        "\n",
        "    history = model.fit(\n",
        "        x=x_train,\n",
        "        y=y_train,\n",
        "        batch_size=batch_size,\n",
        "        epochs=num_epochs,\n",
        "        validation_split=0.1,\n",
        "        callbacks=[checkpoint_callback],\n",
        "    )\n",
        "\n",
        "    model.load_weights(checkpoint_filepath)\n",
        "    _, accuracy, top_5_accuracy = model.evaluate(x_test, y_test)\n",
        "    print(f\"Test accuracy: {round(accuracy * 100, 2)}%\")\n",
        "    print(f\"Test top 5 accuracy: {round(top_5_accuracy * 100, 2)}%\")\n",
        "\n",
        "    return history\n",
        "\n",
        "\n",
        "vit_classifier = create_vit_classifier()\n",
        "history = run_experiment(vit_classifier)\n"
      ]
    },
    {
      "cell_type": "markdown",
      "id": "72405065-f6db-49ee-8af8-daffcd6ad304",
      "metadata": {
        "id": "72405065-f6db-49ee-8af8-daffcd6ad304"
      },
      "source": [
        "After 100 epochs, the ViT model achieves around 55% accuracy and 82% top-5 accuracy on the test data. These are not competitive results on the CIFAR-100 dataset, as a ResNet50V2 trained from scratch on the same data can achieve 67% accuracy.\n",
        "\n",
        "Note that the state of the art results reported in the paper are achieved by pre-training the ViT model using the JFT-300M dataset, then fine-tuning it on the target dataset. To improve the model quality without pre-training, you can try to train the model for more epochs, use a larger number of Transformer layers, resize the input images, change the patch size, or increase the projection dimensions. Besides, as mentioned in the paper, the quality of the model is affected not only by architecture choices, but also by parameters such as the learning rate schedule, optimizer, weight decay, etc. In practice, it's recommended to fine-tune a ViT model that was pre-trained using a large, high-resolution dataset."
      ]
    },
    {
      "cell_type": "code",
      "execution_count": null,
      "id": "d9c46283-3efe-4345-ba6c-0b79b235f9ee",
      "metadata": {
        "id": "d9c46283-3efe-4345-ba6c-0b79b235f9ee"
      },
      "outputs": [],
      "source": []
    }
  ],
  "metadata": {
    "colab": {
      "provenance": [],
      "gpuType": "A100"
    },
    "kernelspec": {
      "display_name": "Python 3",
      "name": "python3"
    },
    "language_info": {
      "codemirror_mode": {
        "name": "ipython",
        "version": 3
      },
      "file_extension": ".py",
      "mimetype": "text/x-python",
      "name": "python",
      "nbconvert_exporter": "python",
      "pygments_lexer": "ipython3",
      "version": "3.10.15"
    },
    "accelerator": "GPU"
  },
  "nbformat": 4,
  "nbformat_minor": 5
}